{
 "cells": [
  {
   "cell_type": "markdown",
   "metadata": {},
   "source": [
    "# Ondes de Rossby des moyennes latitudes/diagrammes de Hovmöller \n",
    "\n",
    "\n",
    "**Auteur du calepin : FERRY Frédéric (DESR/ENM/C3M) - septembre 2021\n",
    "\n",
    "Tracé de cartes, animations et diagrammes de Hovmöller à partir de données réanalyses quotidiennes du géopotentiel à 500 hPa (données NCEP : ftp://ftp2.psl.noaa.gov/Datasets/ncep.reanalysis.dailyavgs/pressure/)\n",
    "\n",
    "Concepts Python illustrés :\n",
    "\n",
    "- Exploitation de fichiers de données quotidiennes au format netcdf (module xarray)\n",
    "- Calcul d'anomalies quotidiennes (via la méthode groupby de xarray)\n",
    "- Tracé de cartes et d'animations (matplotlib/cartopy)\n",
    "- Réalisation de diagramme de Hovmöller"
   ]
  },
  {
   "cell_type": "code",
   "execution_count": null,
   "metadata": {
    "scrolled": true
   },
   "outputs": [],
   "source": [
    "%matplotlib inline\n",
    "\n",
    "import os\n",
    "\n",
    "import xarray as xr\n",
    "import numpy as np\n",
    "\n",
    "from cartopy.util import add_cyclic_point\n",
    "import cartopy.crs as ccrs\n",
    "from cartopy.mpl.geoaxes import GeoAxes\n",
    "from cartopy.mpl.ticker import LongitudeFormatter, LatitudeFormatter\n",
    "\n",
    "import matplotlib.pyplot as plt\n",
    "from mpl_toolkits.axes_grid1 import AxesGrid\n",
    "import matplotlib.path as mpath\n",
    "\n",
    "import IPython.display as IPdisplay, matplotlib.font_manager as fm\n",
    "from PIL import Image\n",
    "import glob"
   ]
  },
  {
   "cell_type": "raw",
   "metadata": {},
   "source": [
    "Dossiers des données et des figures/animations."
   ]
  },
  {
   "cell_type": "code",
   "execution_count": null,
   "metadata": {
    "scrolled": true
   },
   "outputs": [],
   "source": [
    "dir_data='./data/'\n",
    "dir_figs='./figs/'\n",
    "dir_anim='./anim/'\n",
    "if not os.path.exists(dir_figs):\n",
    "    os.makedirs(dir_figs)\n",
    "if not os.path.exists(dir_anim):\n",
    "    os.makedirs(dir_anim)"
   ]
  },
  {
   "cell_type": "markdown",
   "metadata": {},
   "source": [
    "# Ouverture des données"
   ]
  },
  {
   "cell_type": "raw",
   "metadata": {},
   "source": [
    "Ouverture des données de Z500 sur la période 1980-2019, entre 0N et 90N. Calcul des anomalies quotidiennes."
   ]
  },
  {
   "cell_type": "code",
   "execution_count": null,
   "metadata": {
    "scrolled": false
   },
   "outputs": [],
   "source": [
    "year1='1980'\n",
    "year2='2020'\n",
    "\n",
    "fz    = xr.open_dataset('./data/hgt500.1980-2021.nc').sel(lat=slice(90,0)).sel(time=slice(year1,year2))\n",
    "print(fz)\n",
    "\n",
    "print(' ----- Computing daily anomalies ----- ')\n",
    "fz_anom=fz.groupby('time.dayofyear') - fz.groupby('time.dayofyear').mean('time')\n",
    "print(' ----- Done ----- ')"
   ]
  },
  {
   "cell_type": "markdown",
   "metadata": {},
   "source": [
    "# Etude d'une séquence de cartes"
   ]
  },
  {
   "cell_type": "raw",
   "metadata": {},
   "source": [
    "Extraction des données pour une période donnée."
   ]
  },
  {
   "cell_type": "code",
   "execution_count": null,
   "metadata": {
    "scrolled": true
   },
   "outputs": [],
   "source": [
    "date1='2020-01-01'\n",
    "date2='2020-12-31'\n",
    "\n",
    "fz_days=fz.sel(time=slice(date1,date2))\n",
    "fz_days_anom=fz_anom.sel(time=slice(date1,date2))\n",
    "\n",
    "time  = fz_days.time.values\n",
    "\n",
    "dataz1 = fz_days['hgt']\n",
    "dataz2 = fz_days_anom['hgt']"
   ]
  },
  {
   "cell_type": "raw",
   "metadata": {},
   "source": [
    "Gestion des dates sous format chaîne de caractère."
   ]
  },
  {
   "cell_type": "code",
   "execution_count": null,
   "metadata": {
    "scrolled": true
   },
   "outputs": [],
   "source": [
    "time_str=[x for x in range(len(time))]\n",
    "date_str=[x for x in range(len(time))]\n",
    "\n",
    "for i in range(len(time)):\n",
    "\ttime_str[i] = str(time[i])\n",
    "\tdate_str[i] = time_str[i][0:10]\n",
    "\n",
    "print(date_str)"
   ]
  },
  {
   "cell_type": "raw",
   "metadata": {},
   "source": [
    "Fonction de conversion des longitudes 0-360 en -180-180."
   ]
  },
  {
   "cell_type": "code",
   "execution_count": null,
   "metadata": {
    "scrolled": true
   },
   "outputs": [],
   "source": [
    "def lonflip(da):\n",
    "    lon_name = 'lon'\n",
    "    da['_longitude_adjusted'] = xr.where(\n",
    "        da[lon_name] > 180,\n",
    "        da[lon_name] - 360,\n",
    "        da[lon_name])\n",
    "    da = (\n",
    "        da\n",
    "        .swap_dims({lon_name: '_longitude_adjusted'})\n",
    "        .sel(**{'_longitude_adjusted': sorted(da._longitude_adjusted)})\n",
    "        .drop(lon_name))\n",
    "    da = da.rename({'_longitude_adjusted': lon_name})\n",
    "    return da"
   ]
  },
  {
   "cell_type": "raw",
   "metadata": {},
   "source": [
    "Moyenne des anomalies sur la bande de latitudes 40N-60N (+conversion 0 - 360 --> -180 - 180)."
   ]
  },
  {
   "cell_type": "code",
   "execution_count": null,
   "metadata": {
    "scrolled": true
   },
   "outputs": [],
   "source": [
    "fz_days_anom_avg=fz_days_anom.sel(lat=slice(60,40)).mean('lat')\n",
    "profilesz = fz_days_anom_avg['hgt']\n",
    "profilesz = lonflip(profilesz)"
   ]
  },
  {
   "cell_type": "raw",
   "metadata": {},
   "source": [
    "Conversions longitudes pour le tracé des cartes (0 - 360 --> -180 - 180)."
   ]
  },
  {
   "cell_type": "code",
   "execution_count": null,
   "metadata": {
    "scrolled": true
   },
   "outputs": [],
   "source": [
    "dataz1=lonflip(dataz1)\n",
    "dataz2=lonflip(dataz2)\n",
    "lat  = dataz1.lat.values\n",
    "lon  = dataz1.lon.values"
   ]
  },
  {
   "cell_type": "raw",
   "metadata": {},
   "source": [
    "Echelles de valeur, palettes de couleurs."
   ]
  },
  {
   "cell_type": "code",
   "execution_count": null,
   "metadata": {
    "scrolled": true
   },
   "outputs": [],
   "source": [
    "levels_z1 = np.arange(4800,6050,50)\n",
    "levels_z2 = np.arange(-500,550,50)\n",
    "cmap_z1='jet'\n",
    "cmap_z2='RdBu_r'"
   ]
  },
  {
   "cell_type": "raw",
   "metadata": {},
   "source": [
    "Fonction de tracé des fonds de cartes en projection plate carrée."
   ]
  },
  {
   "cell_type": "code",
   "execution_count": null,
   "metadata": {
    "scrolled": true
   },
   "outputs": [],
   "source": [
    "def plot_background(ax):\n",
    "    ax.set_xticks(np.linspace(-180, 180, 13), crs=ccrs.PlateCarree())\n",
    "    ax.set_yticks(np.linspace(-90, 90, 19), crs=ccrs.PlateCarree())\n",
    "    ax.axes.axis('tight')\n",
    "    lon_formatter = LongitudeFormatter(zero_direction_label=True)\n",
    "    lat_formatter = LatitudeFormatter()\n",
    "    ax.xaxis.set_major_formatter(lon_formatter)\n",
    "    ax.yaxis.set_major_formatter(lat_formatter)\n",
    "    ax.coastlines()\n",
    "    return ax"
   ]
  },
  {
   "cell_type": "raw",
   "metadata": {},
   "source": [
    "Tracé des graphiques de Z500 pour la période choisie (fichiers png individuels)."
   ]
  },
  {
   "cell_type": "code",
   "execution_count": null,
   "metadata": {
    "scrolled": false
   },
   "outputs": [],
   "source": [
    "proj=ccrs.PlateCarree()\n",
    "\n",
    "latS=30\n",
    "latN=70\n",
    "bounds = [(-180, 180, latS, latN)]\n",
    "\n",
    "plt_title1 = 'Geopotential height (mgp) at 500 hPa : '\n",
    "\n",
    "for i in range(len(time)):\n",
    "    print(date_str[i])\n",
    "    fig = plt.figure(figsize=(15., 12.))\n",
    "    fig.suptitle(plt_title1+date_str[i], fontsize=16)\n",
    "    ax = fig.add_subplot(3, 1, 1, projection=proj)\n",
    "    ax.set_title('Daily field', loc='center')\n",
    "    plot_background(ax)\n",
    "    ax.set_extent(*bounds, crs=ccrs.PlateCarree())\n",
    "    cf = ax.contourf(lon, lat, dataz1[i,:,:], levels_z1, transform=ccrs.PlateCarree(), cmap=cmap_z1, extend='both')\n",
    "    cb = fig.colorbar(cf, orientation='horizontal', aspect=65, shrink=1, pad=0.20, extendrect='True')\n",
    "    cb.set_label('mgp', size='large')\n",
    "    \n",
    "    ax = fig.add_subplot(3, 1, 2, projection=proj)\n",
    "    ax.set_title('Anomaly', loc='center')\n",
    "    plot_background(ax)\n",
    "    ax.set_extent(*bounds, crs=ccrs.PlateCarree())\n",
    "    cf = ax.contourf(lon, lat, dataz2[i,:,:], levels_z2, transform=ccrs.PlateCarree(), cmap=cmap_z2, extend='both')\n",
    "    \n",
    "    cb = fig.colorbar(cf, orientation='horizontal', aspect=65, shrink=1, pad=0.20, extendrect='True')\n",
    "    cb.set_label('mgp', size='large')\n",
    "    \n",
    "    ax = fig.add_subplot(3,1,3)\n",
    "    plt.title('Anomaly field : 40N-60N average', fontsize=12)\n",
    "    ax.set_xticks(np.linspace(-180, 180, 13))\n",
    "    ax.set_xticklabels(np.linspace(-180, 180, 13))\n",
    "    plt.xlim(-180, lon[-1])\n",
    "    plt.ylim(-320, 320)   \n",
    "    plt.xlabel('Longitude')\n",
    "    plt.ylabel('Anomaly (mgp')\n",
    "    prof = ax.plot(lon, profilesz[i,:], color='black', linewidth=1, linestyle='-')\n",
    "    plt.axhline(0, color='k')\n",
    "    plt.axvline(0, color='k')\n",
    "    plt.axvline(-90, color='k')\n",
    "    plt.axvline(90, color='k')\n",
    "    plt.close()\n",
    "    \n",
    "    figname=dir_anim+'Z500_'+date_str[i]\n",
    "    fig.savefig(figname+'.png', bbox_inches='tight')"
   ]
  },
  {
   "cell_type": "raw",
   "metadata": {},
   "source": [
    "Fonction de création d'une animation à partir des fichiers png présents dans le dossier anim."
   ]
  },
  {
   "cell_type": "code",
   "execution_count": null,
   "metadata": {
    "scrolled": true
   },
   "outputs": [],
   "source": [
    "def make_animation():\n",
    "    nbimages=len(time)\n",
    "    # create a tuple of display durations, one for each frame\n",
    "    first_last = 1000 #show the first and last frames for 100 ms\n",
    "    standard_duration = 1000 #show all other frames for 5 ms\n",
    "    durations = tuple([first_last] + [standard_duration] * (nbimages - 2) + [first_last])\n",
    "    # load all the static images into a list\n",
    "    images = [Image.open(image) for image in sorted(glob.glob('{}/*.png'.format(dir_anim)))]\n",
    "    # save as an animated gif\n",
    "    gif = images[0]\n",
    "    gif.info['duration'] = durations #ms per frame\n",
    "    gif.info['loop'] = 0 #how many times to loop (0=infinite)\n",
    "    gif.save(fp=gif_filepath, format='gif', save_all=True, append_images=images[1:])\n",
    "    # verify that the number of frames in the gif equals the number of image files and durations\n",
    "    Image.open(gif_filepath).n_frames == len(images) == len(durations)\n",
    "    # clean png\n",
    "    os.chdir(\"./anim/\")\n",
    "    for f in glob.glob(\"*.png\"):\n",
    "        os.remove(f)\n",
    "    os.chdir(\"../\")\n",
    "    return Image"
   ]
  },
  {
   "cell_type": "raw",
   "metadata": {},
   "source": [
    "Réalisation de l'animation mensuelle Z500."
   ]
  },
  {
   "cell_type": "code",
   "execution_count": null,
   "metadata": {
    "scrolled": false
   },
   "outputs": [],
   "source": [
    "gif_filepath = dir_anim+'Z500_'+date1+'-'+date2+'.gif'\n",
    "make_animation()\n",
    "IPdisplay.Image(url=gif_filepath)"
   ]
  },
  {
   "cell_type": "raw",
   "metadata": {},
   "source": [
    "Ajout de points cycliques en longitude."
   ]
  },
  {
   "cell_type": "code",
   "execution_count": null,
   "metadata": {
    "scrolled": false
   },
   "outputs": [],
   "source": [
    "print(\"Original shape -\", dataz1.shape)\n",
    "lon0 = dataz1.coords['lon']\n",
    "lon_idx = dataz1.dims.index('lon')\n",
    "dataz1, lon2 = add_cyclic_point(dataz1.values, coord=lon0, axis=lon_idx)\n",
    "dataz2, lon2 = add_cyclic_point(dataz2.values, coord=lon0, axis=lon_idx)\n",
    "print(\"New shape -\", dataz1.shape)"
   ]
  },
  {
   "cell_type": "raw",
   "metadata": {},
   "source": [
    "Tracé des graphiques de Z500 pour la période choisie (fichiers png individuels)."
   ]
  },
  {
   "cell_type": "code",
   "execution_count": null,
   "metadata": {
    "scrolled": false
   },
   "outputs": [],
   "source": [
    "proj=ccrs.NorthPolarStereo()\n",
    "bounds = [(-180, 180, 0, 90)]\n",
    "\n",
    "plt_title1 = 'Geopotential height (mgp) at 500 hPa : '\n",
    "\n",
    "for i in range(len(time)):\n",
    "    print(date_str[i])\n",
    "    fig = plt.figure(figsize=(15., 8.))\n",
    "    fig.suptitle(plt_title1+date_str[i], fontsize=16)\n",
    "    ax = fig.add_subplot(1, 2, 1, projection=proj)\n",
    "    ax.set_title('Daily field', loc='center')\n",
    "    ax.coastlines()\n",
    "    \n",
    "    ax.set_extent(*bounds, crs=ccrs.PlateCarree())\n",
    "    \n",
    "    # Compute a circle in axes coordinates, which we can use as a boundary\n",
    "    # for the map. We can pan/zoom as much as we like - the boundary will be\n",
    "    # permanently circular.\n",
    "    angle = np.linspace(0, 2*np.pi, 100)\n",
    "    center, radius = [0.5, 0.5], 0.5\n",
    "    verts = np.vstack([np.sin(angle), np.cos(angle)]).T\n",
    "    circle = mpath.Path(verts * radius + center)\n",
    "    ax.set_boundary(circle, transform=ax.transAxes)\n",
    "    \n",
    "    cf = ax.contourf(lon2, lat, dataz1[i,:,:], levels_z1, transform=ccrs.PlateCarree(), cmap=cmap_z1, extend='both')\n",
    "    cb = fig.colorbar(cf, orientation='horizontal', aspect=65, shrink=1, pad=0.10, extendrect='True')\n",
    "    cb.set_label('mgp', size='large')\n",
    "    \n",
    "    ax = fig.add_subplot(1, 2, 2, projection=proj)\n",
    "    ax.set_title('Anomaly', loc='center')\n",
    "    ax.coastlines()\n",
    "    # Compute a circle in axes coordinates, which we can use as a boundary\n",
    "    # for the map. We can pan/zoom as much as we like - the boundary will be\n",
    "    # permanently circular.\n",
    "    angle = np.linspace(0, 2*np.pi, 100)\n",
    "    center, radius = [0.5, 0.5], 0.5\n",
    "    verts = np.vstack([np.sin(angle), np.cos(angle)]).T\n",
    "    circle = mpath.Path(verts * radius + center)\n",
    "    ax.set_boundary(circle, transform=ax.transAxes)\n",
    "    ax.set_extent(*bounds, crs=ccrs.PlateCarree())\n",
    "    cf = ax.contourf(lon2, lat, dataz2[i,:,:], levels_z2, transform=ccrs.PlateCarree(), cmap=cmap_z2, extend='both')\n",
    "    \n",
    "    cb = fig.colorbar(cf, orientation='horizontal', aspect=65, shrink=1, pad=0.10, extendrect='True')\n",
    "    cb.set_label('mgp', size='large')\n",
    "    \n",
    "    plt.close()\n",
    "    \n",
    "    figname=dir_anim+'Z500_polar_'+date_str[i]\n",
    "    fig.savefig(figname+'.png', bbox_inches='tight')"
   ]
  },
  {
   "cell_type": "raw",
   "metadata": {},
   "source": [
    "Réalisation de l'animation mensuelle Z500."
   ]
  },
  {
   "cell_type": "code",
   "execution_count": null,
   "metadata": {
    "scrolled": false
   },
   "outputs": [],
   "source": [
    "gif_filepath = dir_anim+'Z500_polar_'+date1+'-'+date2+'.gif'\n",
    "make_animation()\n",
    "IPdisplay.Image(url=gif_filepath)"
   ]
  },
  {
   "cell_type": "raw",
   "metadata": {},
   "source": [
    "Echelles de valeurs des anomalies pour le diagramme de Hovmöller."
   ]
  },
  {
   "cell_type": "code",
   "execution_count": null,
   "metadata": {},
   "outputs": [],
   "source": [
    "levels_z_hov = np.arange(-280,320,40)\n",
    "levels_v_hov = np.arange(-50,55,5)"
   ]
  },
  {
   "cell_type": "raw",
   "metadata": {},
   "source": [
    "Tracé du diagramme de Hovmöller des anomalies de Z500."
   ]
  },
  {
   "cell_type": "code",
   "execution_count": null,
   "metadata": {},
   "outputs": [],
   "source": [
    "plt_title = 'Geopotential height at 500 hPa (anomaly) : '+date1+'-'+date2\n",
    "\n",
    "fig = plt.figure(figsize=(12., 15.))\n",
    "ax=plt.subplot(1, 1, 1)\n",
    "plt.gca().invert_yaxis()\n",
    "ax.set_yticks(time[::30])\n",
    "ax.set_yticklabels(date_str[::30])\n",
    "ax.set_xticklabels('')\n",
    "cf = ax.contourf(lon, time, profilesz, levels_z_hov, cmap=cmap_z2, extend='both')\n",
    "\n",
    "cb = fig.colorbar(cf, orientation='vertical', aspect=65, shrink=1, pad=0.05, extendrect='True')\n",
    "cb.set_label('mgp', size='large')\n",
    "ax.set_title(plt_title, loc='center')\n",
    "\n",
    "ax_inset = fig.add_axes([0.125, 0.03, 0.62, 0.05], projection=ccrs.PlateCarree(central_longitude=0.0))\n",
    "bounds = [(lon[0], lon[-1], 40, 60)]\n",
    "ax_inset.axes.axis('tight')\n",
    "plot_background(ax_inset)\n",
    "ax_inset.coastlines()\n",
    "ax_inset.stock_img()\n",
    "ax_inset.set_extent(*bounds, crs=ccrs.PlateCarree())\n",
    "\n",
    "plt.show()\n",
    "\n",
    "figname=dir_figs+'z500_Hov_'+date1+'-'+date2\n",
    "fig.savefig(figname+'.png', bbox_inches='tight')"
   ]
  },
  {
   "cell_type": "code",
   "execution_count": null,
   "metadata": {},
   "outputs": [],
   "source": []
  }
 ],
 "metadata": {
  "kernelspec": {
   "display_name": "Python 3",
   "language": "python",
   "name": "python3"
  },
  "language_info": {
   "codemirror_mode": {
    "name": "ipython",
    "version": 3
   },
   "file_extension": ".py",
   "mimetype": "text/x-python",
   "name": "python",
   "nbconvert_exporter": "python",
   "pygments_lexer": "ipython3",
   "version": "3.8.10"
  }
 },
 "nbformat": 4,
 "nbformat_minor": 1
}
